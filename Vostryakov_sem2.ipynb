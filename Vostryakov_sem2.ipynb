{
 "cells": [
  {
   "cell_type": "code",
   "execution_count": 9,
   "id": "2df6aaa1",
   "metadata": {},
   "outputs": [
    {
     "name": "stdout",
     "output_type": "stream",
     "text": [
      "[0, 0, 1, 0, 0, 0, 1, 0, 1, 1]\n",
      "-\n"
     ]
    }
   ],
   "source": [
    "#2\n",
    "import random\n",
    "a = [random.randint(0, 1) for i in range(10)]\n",
    "print(a)\n",
    "if len(a) - sum(a) > sum(a):\n",
    "    print('-')\n",
    "else:\n",
    "    print('+')"
   ]
  },
  {
   "cell_type": "code",
   "execution_count": 10,
   "id": "8efc0e63",
   "metadata": {},
   "outputs": [
    {
     "name": "stdout",
     "output_type": "stream",
     "text": [
      "[0, 4, 7, 2, 1, 2, 2, 1, 2, 7]\n",
      "min: 0\n",
      "max: 7\n",
      "mid: 2.8\n"
     ]
    }
   ],
   "source": [
    "#3\n",
    "import random\n",
    "a = [random.randint(0, 10) for i in range(10)]\n",
    "print(a)\n",
    "print('min:', min(a))\n",
    "print('max:', max(a))\n",
    "print('mid:', sum(a) / len(a))"
   ]
  },
  {
   "cell_type": "code",
   "execution_count": 11,
   "id": "6e684ac7",
   "metadata": {},
   "outputs": [
    {
     "name": "stdout",
     "output_type": "stream",
     "text": [
      "[9, 7, 3, 3, 6, 3, 0, 10, 1, 5]\n",
      "[0.4121184852417566, 0.6569865987187891, 0.1411200080598672, 0.1411200080598672, -0.27941549819892586, 0.1411200080598672, 0.0, -0.5440211108893698, 0.8414709848078965, -0.9589242746631385]\n",
      "Max sin: 0.8414709848078965\n"
     ]
    }
   ],
   "source": [
    "#5\n",
    "import random\n",
    "import math\n",
    "a = [random.randint(0, 10) for i in range(10)]\n",
    "print(a)\n",
    "def max_sin(arr):\n",
    "    sin_arr = list(map(math.sin, arr))\n",
    "    print(sin_arr)\n",
    "    return max(sin_arr)\n",
    "print('Max sin:',max_sin(a))"
   ]
  },
  {
   "cell_type": "code",
   "execution_count": 12,
   "id": "f754f1d0",
   "metadata": {},
   "outputs": [
    {
     "name": "stdout",
     "output_type": "stream",
     "text": [
      "[4, 5, 3, 4, 3, 5, 8, 0, 9, 9]\n",
      "num = 1\n"
     ]
    },
    {
     "ename": "NameError",
     "evalue": "name 'val' is not defined",
     "output_type": "error",
     "traceback": [
      "\u001b[1;31m---------------------------------------------------------------------------\u001b[0m",
      "\u001b[1;31mNameError\u001b[0m                                 Traceback (most recent call last)",
      "\u001b[1;32m~\\AppData\\Local\\Temp/ipykernel_13812/4004748469.py\u001b[0m in \u001b[0;36m<module>\u001b[1;34m\u001b[0m\n\u001b[0;32m     10\u001b[0m     \u001b[0mprint\u001b[0m\u001b[1;33m(\u001b[0m\u001b[0mswap\u001b[0m\u001b[1;33m(\u001b[0m\u001b[0ma\u001b[0m\u001b[1;33m,\u001b[0m \u001b[1;36m4\u001b[0m\u001b[1;33m)\u001b[0m\u001b[1;33m)\u001b[0m\u001b[1;33m\u001b[0m\u001b[1;33m\u001b[0m\u001b[0m\n\u001b[0;32m     11\u001b[0m \u001b[0mnum\u001b[0m \u001b[1;33m=\u001b[0m \u001b[0mint\u001b[0m\u001b[1;33m(\u001b[0m\u001b[0minput\u001b[0m\u001b[1;33m(\u001b[0m\u001b[1;34m'num = '\u001b[0m\u001b[1;33m)\u001b[0m\u001b[1;33m)\u001b[0m\u001b[1;33m\u001b[0m\u001b[1;33m\u001b[0m\u001b[0m\n\u001b[1;32m---> 12\u001b[1;33m \u001b[0marr\u001b[0m \u001b[1;33m=\u001b[0m \u001b[1;33m[\u001b[0m\u001b[0mval\u001b[0m \u001b[1;32mfor\u001b[0m \u001b[0mitem\u001b[0m \u001b[1;32min\u001b[0m \u001b[0mrange\u001b[0m\u001b[1;33m(\u001b[0m\u001b[0mlen\u001b[0m\u001b[1;33m(\u001b[0m\u001b[0ma\u001b[0m\u001b[1;33m)\u001b[0m\u001b[1;33m)\u001b[0m\u001b[1;33m]\u001b[0m\u001b[1;33m\u001b[0m\u001b[1;33m\u001b[0m\u001b[0m\n\u001b[0m\u001b[0;32m     13\u001b[0m \u001b[0mprint\u001b[0m\u001b[1;33m(\u001b[0m\u001b[0marr\u001b[0m\u001b[1;33m)\u001b[0m\u001b[1;33m\u001b[0m\u001b[1;33m\u001b[0m\u001b[0m\n",
      "\u001b[1;32m~\\AppData\\Local\\Temp/ipykernel_13812/4004748469.py\u001b[0m in \u001b[0;36m<listcomp>\u001b[1;34m(.0)\u001b[0m\n\u001b[0;32m     10\u001b[0m     \u001b[0mprint\u001b[0m\u001b[1;33m(\u001b[0m\u001b[0mswap\u001b[0m\u001b[1;33m(\u001b[0m\u001b[0ma\u001b[0m\u001b[1;33m,\u001b[0m \u001b[1;36m4\u001b[0m\u001b[1;33m)\u001b[0m\u001b[1;33m)\u001b[0m\u001b[1;33m\u001b[0m\u001b[1;33m\u001b[0m\u001b[0m\n\u001b[0;32m     11\u001b[0m \u001b[0mnum\u001b[0m \u001b[1;33m=\u001b[0m \u001b[0mint\u001b[0m\u001b[1;33m(\u001b[0m\u001b[0minput\u001b[0m\u001b[1;33m(\u001b[0m\u001b[1;34m'num = '\u001b[0m\u001b[1;33m)\u001b[0m\u001b[1;33m)\u001b[0m\u001b[1;33m\u001b[0m\u001b[1;33m\u001b[0m\u001b[0m\n\u001b[1;32m---> 12\u001b[1;33m \u001b[0marr\u001b[0m \u001b[1;33m=\u001b[0m \u001b[1;33m[\u001b[0m\u001b[0mval\u001b[0m \u001b[1;32mfor\u001b[0m \u001b[0mitem\u001b[0m \u001b[1;32min\u001b[0m \u001b[0mrange\u001b[0m\u001b[1;33m(\u001b[0m\u001b[0mlen\u001b[0m\u001b[1;33m(\u001b[0m\u001b[0ma\u001b[0m\u001b[1;33m)\u001b[0m\u001b[1;33m)\u001b[0m\u001b[1;33m]\u001b[0m\u001b[1;33m\u001b[0m\u001b[1;33m\u001b[0m\u001b[0m\n\u001b[0m\u001b[0;32m     13\u001b[0m \u001b[0mprint\u001b[0m\u001b[1;33m(\u001b[0m\u001b[0marr\u001b[0m\u001b[1;33m)\u001b[0m\u001b[1;33m\u001b[0m\u001b[1;33m\u001b[0m\u001b[0m\n",
      "\u001b[1;31mNameError\u001b[0m: name 'val' is not defined"
     ]
    }
   ],
   "source": [
    "#6\n",
    "import random\n",
    "import math\n",
    "a = [random.randint(0, 10) for i in range(10)]\n",
    "print(a)\n",
    "def swap(arr, num):\n",
    "    for i in range(len(arr)):\n",
    "        arr[i] = num\n",
    "    return arr\n",
    "    print(swap(a, 4))\n",
    "num = int(input('num = '))\n",
    "arr = [val for item in range(len(a))]\n",
    "print(arr)"
   ]
  },
  {
   "cell_type": "code",
   "execution_count": 13,
   "id": "31301327",
   "metadata": {},
   "outputs": [
    {
     "name": "stdout",
     "output_type": "stream",
     "text": [
      "[2, 4, 9, 1, 9, 9, 9, 10, 2, 6] [7, 0, 9, 1, 0, 9, 8, 6, 3, 9]\n",
      "[2, 4, 9, 1, 9, 9, 9, 10, 2, 6, 7, 0, 9, 1, 0, 9, 8, 6, 3, 9]\n"
     ]
    }
   ],
   "source": [
    "#4\n",
    "import random\n",
    "import math\n",
    "a = [random.randint(0, 10) for i in range(10)]\n",
    "b = [random.randint(0, 10) for i in range(10)]\n",
    "print(a,b)\n",
    "def ab(a,b):\n",
    "    c=[]\n",
    "    for i in a:\n",
    "        c.append(i)\n",
    "    for i in b:\n",
    "        c.append(i)\n",
    "    return c\n",
    "print(ab(a,b))"
   ]
  },
  {
   "cell_type": "code",
   "execution_count": null,
   "id": "5555087c",
   "metadata": {},
   "outputs": [],
   "source": []
  }
 ],
 "metadata": {
  "kernelspec": {
   "display_name": "Python 3 (ipykernel)",
   "language": "python",
   "name": "python3"
  },
  "language_info": {
   "codemirror_mode": {
    "name": "ipython",
    "version": 3
   },
   "file_extension": ".py",
   "mimetype": "text/x-python",
   "name": "python",
   "nbconvert_exporter": "python",
   "pygments_lexer": "ipython3",
   "version": "3.9.7"
  }
 },
 "nbformat": 4,
 "nbformat_minor": 5
}
