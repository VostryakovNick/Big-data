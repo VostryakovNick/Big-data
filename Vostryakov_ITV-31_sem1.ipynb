{
 "cells": [
  {
   "cell_type": "markdown",
   "id": "e0c74324-5ea4-493a-b1e4-0089ee9e05a2",
   "metadata": {
    "tags": []
   },
   "source": [
    "### №1"
   ]
  },
  {
   "cell_type": "code",
   "execution_count": 1,
   "id": "2ba57875-3f5d-4025-b37e-f52e6f618145",
   "metadata": {},
   "outputs": [
    {
     "name": "stdout",
     "output_type": "stream",
     "text": [
      "-32\n"
     ]
    }
   ],
   "source": [
    "def f(n):\n",
    "    s=0\n",
    "    for i in range(0,n+1):\n",
    "        s+=((-1)**i)*(2*i+1)**2\n",
    "    return s\n",
    "\n",
    "print(f(3))"
   ]
  },
  {
   "cell_type": "markdown",
   "id": "1e97376b-83bf-4b62-8bed-68f926824a3c",
   "metadata": {
    "tags": []
   },
   "source": [
    "### №2"
   ]
  },
  {
   "cell_type": "code",
   "execution_count": 2,
   "id": "d0606410-4081-4a57-a7b5-a8a22bff1365",
   "metadata": {},
   "outputs": [
    {
     "name": "stdout",
     "output_type": "stream",
     "text": [
      "za\n"
     ]
    }
   ],
   "source": [
    "import random\n",
    "\n",
    "lst = [random.randint(0, 1) for i in range(10)]\n",
    "\n",
    "if len(lst) - sum(lst) > sum(lst):\n",
    "    print('protiv')\n",
    "else:\n",
    "    print('za')"
   ]
  },
  {
   "cell_type": "markdown",
   "id": "2d76c285-374a-4934-b450-03128eba3dd3",
   "metadata": {},
   "source": [
    "### №3"
   ]
  },
  {
   "cell_type": "code",
   "execution_count": 3,
   "id": "5c961382-c888-4cbe-811b-a91365dc4759",
   "metadata": {},
   "outputs": [
    {
     "name": "stdout",
     "output_type": "stream",
     "text": [
      "min: 0\n",
      "max: 94\n",
      "sred: 47.4\n"
     ]
    }
   ],
   "source": [
    "lst = [random.randint(0, 100) for i in range(10)]\n",
    "\n",
    "print('min:', min(lst))\n",
    "print('max:', max(lst))\n",
    "print('sred:', sum(lst) / len(lst))"
   ]
  },
  {
   "cell_type": "markdown",
   "id": "51c0be7d-b1bd-441f-aec9-22a78118c0e7",
   "metadata": {},
   "source": [
    "### №4"
   ]
  },
  {
   "cell_type": "code",
   "execution_count": 4,
   "id": "ce8f8f2a-eb35-40c3-898e-61c4843b2578",
   "metadata": {},
   "outputs": [
    {
     "name": "stdout",
     "output_type": "stream",
     "text": [
      "[12, 33, 15, 7, 73, 63, 23, 30, 42, 95, 68, 66, 18, 48, 5, 56, 69, 53, 36, 69]\n",
      "[12, 33, 15, 7, 73, 63, 23, 30, 42, 95, 68, 66, 18, 48, 5, 56, 69, 53, 36, 69]\n"
     ]
    }
   ],
   "source": [
    "a=[random.randint(0, 100) for i in range(10)]\n",
    "b=[random.randint(0, 100) for i in range(10)]\n",
    "\n",
    "def ab(a,b):\n",
    "    c=[]\n",
    "    for i in a:\n",
    "        if not(i in b):\n",
    "            c.append(i)\n",
    "    for i in b:\n",
    "        if not(i in a):\n",
    "            c.append(i)\n",
    "    return c\n",
    "print(ab(a,b))\n",
    "\n",
    "def difference(a,b):\n",
    "    if a==[]:\n",
    "        return []\n",
    "    elif not(a[0] in b):\n",
    "        return [a[0]]+difference(a[1:],b)\n",
    "    else:\n",
    "        return difference(a[1:],b)\n",
    "\n",
    "def final(a,b):\n",
    "    return difference(a,b)+difference(b,a)\n",
    "print(final(a,b))"
   ]
  },
  {
   "cell_type": "markdown",
   "id": "23ce2248-681f-4ce3-84d1-bfdc43d1ea90",
   "metadata": {},
   "source": [
    "### №5"
   ]
  },
  {
   "cell_type": "code",
   "execution_count": 5,
   "id": "74def3e3-4d39-432c-abbd-b81ea09c3620",
   "metadata": {},
   "outputs": [
    {
     "name": "stdout",
     "output_type": "stream",
     "text": [
      "[12, 6, 55, 60, 9, 2, 73, 84, 8, 25]\n",
      "[-0.5365729180004349, -0.27941549819892586, -0.9997551733586199, -0.3048106211022167, 0.4121184852417566, 0.9092974268256817, -0.6767719568873076, 0.7331903200732922, 0.9893582466233818, -0.13235175009777303]\n",
      "0.9893582466233818\n"
     ]
    }
   ],
   "source": [
    "import math \n",
    "\n",
    "lst = [random.randint(0, 100) for i in range(10)]\n",
    "\n",
    "print(lst)\n",
    "\n",
    "def max_sin(arr):\n",
    "    sin_arr = list(map(math.sin, arr))\n",
    "    print(sin_arr)\n",
    "    return max(sin_arr)\n",
    "    \n",
    "print(max_sin(lst))"
   ]
  },
  {
   "cell_type": "markdown",
   "id": "c5c4406e-4412-49fb-8eed-41e5ba357f9b",
   "metadata": {},
   "source": [
    "### №6"
   ]
  },
  {
   "cell_type": "code",
   "execution_count": null,
   "id": "02062171-d42f-40d2-8db5-c958abd40d2c",
   "metadata": {},
   "outputs": [],
   "source": [
    "lst = [random.randint(0, 100) for i in range(10)]\n",
    "\n",
    "print(lst)\n",
    "\n",
    "def swap(arr, val):\n",
    "    for item in range(len(arr)):\n",
    "        arr[item] = val\n",
    "    return arr\n",
    "    \n",
    "print(swap(lst, 4))\n",
    "\n",
    "val = int(input('val = '))\n",
    "arr = [val for item in range(len(lst))]    \n",
    "print(arr)"
   ]
  },
  {
   "cell_type": "code",
   "execution_count": null,
   "id": "4acbf370-153d-4239-8331-e08aefa2b15a",
   "metadata": {},
   "outputs": [],
   "source": []
  }
 ],
 "metadata": {
  "kernelspec": {
   "display_name": "Python 3 (ipykernel)",
   "language": "python",
   "name": "python3"
  },
  "language_info": {
   "codemirror_mode": {
    "name": "ipython",
    "version": 3
   },
   "file_extension": ".py",
   "mimetype": "text/x-python",
   "name": "python",
   "nbconvert_exporter": "python",
   "pygments_lexer": "ipython3",
   "version": "3.9.7"
  }
 },
 "nbformat": 4,
 "nbformat_minor": 5
}
